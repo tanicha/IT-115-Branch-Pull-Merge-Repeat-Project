{
  "nbformat": 4,
  "nbformat_minor": 0,
  "metadata": {
    "colab": {
      "name": "Graceful Failure Errors Debugging.ipynb",
      "private_outputs": true,
      "provenance": [],
      "include_colab_link": true
    },
    "kernelspec": {
      "name": "python3",
      "display_name": "Python 3"
    },
    "language_info": {
      "name": "python"
    }
  },
  "cells": [
    {
      "cell_type": "markdown",
      "metadata": {
        "id": "view-in-github",
        "colab_type": "text"
      },
      "source": [
        "<a href=\"https://colab.research.google.com/github/tanicha/IT-115-Branch-Pull-Merge-Repeat-Project/blob/main/Graceful_Failure_Errors_Debugging.ipynb\" target=\"_parent\"><img src=\"https://colab.research.google.com/assets/colab-badge.svg\" alt=\"Open In Colab\"/></a>"
      ]
    },
    {
      "cell_type": "markdown",
      "source": [
        "Modified lab from the book:\n",
        "\n",
        "It is a good idea to commit as many errors as you can think of, so that you see what error messages the compiler produces. Sometimes the compiler tells you exactly what is wrong, and all you have to do is fix it. But sometimes the error messages are misleading. Over time you will develop a sense for when you can trust the compiler and when you have to figure things out yourself.\n",
        "\n",
        "Starting with the Hello World program, try out each of the following errors. After you make each change:\n",
        "   1. compile the program\n",
        "   2. read the error message (if there is one)\n",
        "   3. record the change you made using a text box in this jupyter notebook.\n",
        "   4.  record the error as well by copying and pasting it into the text box.\n",
        "\n",
        "Your final submission should contain the results of each experiment with the hello world program. After each is recorded, fix the error and move on to the next one.  This excercise will introduce you to errors you will run into for the rest of the quarter while debugging.\n",
        "\n",
        "   * Remove one of the opening curly braces.\n",
        "   * Remove one of the closing curly braces.\n",
        "   * Instead of main, write mian.\n",
        "   * Remove the word static.\n",
        "   * Remove the word public.\n",
        "   * Remove the word System.\n",
        "   * Replace println with Println.\n",
        "   * Replace println with print.\n",
        "   * Delete one parenthesis.\n",
        "   * Add an extra parenthesis."
      ],
      "metadata": {
        "id": "Dp0Fi3z7o7r2"
      }
    },
    {
      "cell_type": "code",
      "execution_count": null,
      "metadata": {
        "id": "9dO5KuXJomeC"
      },
      "outputs": [],
      "source": [
        "%%writefile Hello.java\n",
        "public class Hello {\n",
        "    public static void main (String[] args) {\n",
        "        System.out.println (\"Hello World!\");\n",
        "    }\n",
        "}"
      ]
    },
    {
      "cell_type": "code",
      "source": [
        "!javac Hello.java\n",
        "!java Hello"
      ],
      "metadata": {
        "id": "0NtPHyRdrB1l"
      },
      "execution_count": null,
      "outputs": []
    }
  ]
}